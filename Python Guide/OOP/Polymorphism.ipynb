{
 "cells": [
  {
   "cell_type": "markdown",
   "metadata": {},
   "source": [
    "# Polymorphism "
   ]
  },
  {
   "cell_type": "markdown",
   "metadata": {},
   "source": [
    "Polymorphism is based on the greek words Poly (many) and morphism (forms)\n",
    "\n",
    "Polymorphism is the ability of an object to take on many forms."
   ]
  },
  {
   "cell_type": "markdown",
   "metadata": {},
   "source": [
    "There are Four Ways to implement Polymorphism in python\n",
    "\n",
    "1. Duck Typing\n",
    "2. Operator Overloading\n",
    "3. Method Overlaoding\n",
    "4. Method Overriding"
   ]
  },
  {
   "cell_type": "markdown",
   "metadata": {},
   "source": [
    "## Duck Typing"
   ]
  },
  {
   "cell_type": "markdown",
   "metadata": {},
   "source": [
    "Polymorphism without inheritance in the form of duck typing as available in Python due to its dynamic typing system. \n",
    "This means that as long as the classes contain the same methods the Python interpreter does not distinguish between them, as the only checking of the calls occurs at run-time"
   ]
  },
  {
   "cell_type": "code",
   "execution_count": 46,
   "metadata": {},
   "outputs": [
    {
     "name": "stdout",
     "output_type": "stream",
     "text": [
      "Quaaaaaack!\n",
      "The duck has white and gray feathers.\n",
      "The person imitates a duck.\n",
      "The person takes a feather from the ground and shows it.\n"
     ]
    }
   ],
   "source": [
    "class Duck:    \n",
    "    def quack(self):        \n",
    "        print(\"Quaaaaaack!\")    \n",
    "    def feathers(self):        \n",
    "        print(\"The duck has white and gray feathers.\")\n",
    "class Person:   \n",
    "    def quack(self):        \n",
    "        print(\"The person imitates a duck.\")    \n",
    "    def feathers(self):        \n",
    "        print(\"The person takes a feather from the ground and shows it.\")    \n",
    "        \n",
    "def in_the_forest(obj):   \n",
    "    obj.quack()   \n",
    "    obj.feathers()\n",
    "    \n",
    "donald = Duck() \n",
    "Talha = Person() \n",
    "in_the_forest(donald) \n",
    "in_the_forest(Talha)"
   ]
  },
  {
   "cell_type": "markdown",
   "metadata": {},
   "source": [
    "## Operator overloading"
   ]
  },
  {
   "cell_type": "markdown",
   "metadata": {},
   "source": [
    "Everything in Python is an object. Each object has some special internal methods which it uses to interact with other objects. \n",
    "Generally, these methods follow the __action__ naming convention. Collectively, this is termed as the **Python Data Model**.\n",
    "\n"
   ]
  },
  {
   "cell_type": "markdown",
   "metadata": {},
   "source": [
    "You can overload any of these methods. This is commonly used in operator overloading in Python. Below is an example of operator overloading using Python's data model. The Vector class creates a simple vector of two variables. We'll add appropriate support for mathematical operations of two vectors using operator overloading."
   ]
  },
  {
   "cell_type": "code",
   "execution_count": 47,
   "metadata": {},
   "outputs": [
    {
     "name": "stdout",
     "output_type": "stream",
     "text": [
      "<Vector (5.000000, 12.000000)>\n",
      "<Vector (-1.000000, 2.000000)>\n",
      "<Vector (2.600000, 9.100000)>\n"
     ]
    }
   ],
   "source": [
    "class Vector(object):   \n",
    "    \n",
    "    def __init__(self, x, y):    \n",
    "        self.x = x    \n",
    "        self.y = y\n",
    "        \n",
    "    def __add__(self, v):        # Addition with another vector.        \n",
    "        return Vector(self.x + v.x, self.y + v.y)\n",
    "    \n",
    "    def __sub__(self, v):        # Subtraction with another vector.        \n",
    "        return Vector(self.x - v.x, self.y - v.y)\n",
    "    \n",
    "    def __mul__(self, s):        # Multiplication with a scalar.        \n",
    "        return Vector(self.x * s, self.y * s)\n",
    "    \n",
    "    \n",
    "    def __repr__(self):        # Print friendly representation of Vector class. Else, it would show up like, \n",
    "                                # <__main__.Vector instance at 0x01DDDDC8>.       \n",
    "            return '<Vector (%f, %f)>' % (self.x, self.y, )\n",
    "\n",
    "a = Vector(3, 5)\n",
    "b = Vector(2, 7)\n",
    "\n",
    "print(a + b) \n",
    "print(b - a) \n",
    "print(b * 1.3)\n"
   ]
  },
  {
   "cell_type": "markdown",
   "metadata": {},
   "source": [
    "## Method Overloading"
   ]
  },
  {
   "cell_type": "markdown",
   "metadata": {},
   "source": [
    "ike other languages (for example method overloading in C++) do, python does not supports method overloading. We may overload the methods but can only use the latest defined method."
   ]
  },
  {
   "cell_type": "code",
   "execution_count": 48,
   "metadata": {},
   "outputs": [
    {
     "ename": "TypeError",
     "evalue": "product() missing 1 required positional argument: 'c'",
     "output_type": "error",
     "traceback": [
      "\u001b[1;31m---------------------------------------------------------------------------\u001b[0m",
      "\u001b[1;31mTypeError\u001b[0m                                 Traceback (most recent call last)",
      "\u001b[1;32m<ipython-input-48-af3cd6fe3e3d>\u001b[0m in \u001b[0;36m<module>\u001b[1;34m()\u001b[0m\n\u001b[0;32m      9\u001b[0m \u001b[1;33m\u001b[0m\u001b[0m\n\u001b[0;32m     10\u001b[0m \u001b[1;33m\u001b[0m\u001b[0m\n\u001b[1;32m---> 11\u001b[1;33m \u001b[0mproduct\u001b[0m\u001b[1;33m(\u001b[0m\u001b[1;36m4\u001b[0m\u001b[1;33m,\u001b[0m \u001b[1;36m5\u001b[0m\u001b[1;33m)\u001b[0m\u001b[1;33m\u001b[0m\u001b[0m\n\u001b[0m\u001b[0;32m     12\u001b[0m \u001b[0mproduct\u001b[0m\u001b[1;33m(\u001b[0m\u001b[1;36m4\u001b[0m\u001b[1;33m,\u001b[0m \u001b[1;36m5\u001b[0m\u001b[1;33m,\u001b[0m \u001b[1;36m5\u001b[0m\u001b[1;33m)\u001b[0m\u001b[1;33m\u001b[0m\u001b[0m\n",
      "\u001b[1;31mTypeError\u001b[0m: product() missing 1 required positional argument: 'c'"
     ]
    }
   ],
   "source": [
    "def product(a, b): \n",
    "    p = a * b \n",
    "    print(p) \n",
    "      \n",
    " \n",
    "def product(a, b, c): \n",
    "    p = a * b*c \n",
    "    print(p) \n",
    "  \n",
    "\n",
    "product(4, 5) \n",
    "product(4, 5, 5)"
   ]
  },
  {
   "cell_type": "markdown",
   "metadata": {},
   "source": [
    "So To solve this problem Below technique is used for method overloading"
   ]
  },
  {
   "cell_type": "code",
   "execution_count": 49,
   "metadata": {
    "scrolled": true
   },
   "outputs": [
    {
     "name": "stdout",
     "output_type": "stream",
     "text": [
      "20\n",
      "100\n"
     ]
    }
   ],
   "source": [
    " def product(a, b, c = None): \n",
    "    if (c == None):\n",
    "        p = a * b \n",
    "        print(p)\n",
    "    else:\n",
    "        p = a * b * c \n",
    "        print(p)\n",
    "\n",
    "product(4, 5) \n",
    "product(4, 5, 5)"
   ]
  },
  {
   "cell_type": "markdown",
   "metadata": {},
   "source": [
    "##  Method Overriding "
   ]
  },
  {
   "cell_type": "markdown",
   "metadata": {},
   "source": [
    "Here is an example of basic overriding in Python \n"
   ]
  },
  {
   "cell_type": "code",
   "execution_count": 50,
   "metadata": {},
   "outputs": [
    {
     "name": "stdout",
     "output_type": "stream",
     "text": [
      "Hello!\n",
      "Parent\n",
      "Hello!\n",
      "Child\n"
     ]
    }
   ],
   "source": [
    "class Parent(object):    \n",
    "    \n",
    "    def introduce(self):        \n",
    "        print(\"Hello!\")\n",
    "        \n",
    "    def print_name(self):        \n",
    "        print(\"Parent\")   \n",
    "        \n",
    "class Child(Parent):   \n",
    "    \n",
    "    def print_name(self):        \n",
    "        print(\"Child\")      \n",
    "\n",
    "p = Parent() \n",
    "c = Child()\n",
    "p.introduce() \n",
    "p.print_name()\n",
    "c.introduce() \n",
    "c.print_name()"
   ]
  }
 ],
 "metadata": {
  "kernelspec": {
   "display_name": "Python 3",
   "language": "python",
   "name": "python3"
  },
  "language_info": {
   "codemirror_mode": {
    "name": "ipython",
    "version": 3
   },
   "file_extension": ".py",
   "mimetype": "text/x-python",
   "name": "python",
   "nbconvert_exporter": "python",
   "pygments_lexer": "ipython3",
   "version": "3.7.0"
  }
 },
 "nbformat": 4,
 "nbformat_minor": 2
}
