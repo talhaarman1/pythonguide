{
 "cells": [
  {
   "cell_type": "markdown",
   "metadata": {},
   "source": [
    "#  Introduction To Python"
   ]
  },
  {
   "cell_type": "markdown",
   "metadata": {},
   "source": [
    "Python\tis\tan\topen\tsource,\thigh-level\tprogramming\tlanguage\tdeveloped\tby\tGuido\tvan Rossum\tin\tthe\tlate\t1980s\tand\tpresently\tadministered\tby\tPython\tSoftware\tFoundation.\t\tIt came\tfrom\tthe\tABC\tlanguage\tthat\the\thelped\tcreate\tearly\ton\tin\this\tcareer.\n",
    "\n",
    "Python\tis\ta\tpowerful\tlanguage\tthat\tyou\tcan\tuse\tto\tcreate\tgames,\twrite\tGUIs,\tand\tdevelop web\tapplications. It\tis\ta\thigh-level\tlanguage.\tReading\tand\twriting\tcodes\tin\tPython\tis\tmuch\tlike\treading\tand writing\tregular\tEnglish\tstatements.\tBecause\tthey\tare\tnot\twritten\tin\tmachine-readable language,\tPython\tprograms\tneed\tto\tbe\tprocessed\tbefore\tmachines\tcan\trun\tthem. \n",
    "\n",
    "Python\tis\tan\tinterpreted\tlanguage.\tThis\tmeans\tthat\tevery\ttime\ta\tprogram\tis\trun,\tits interpreter\truns\tthrough\tthe\tcode\tand\ttranslates\tit\tinto\tmachine-readable\tbyte\tcode. Python\tis\tan\tobject-oriented\tlanguage\tthat\tallows\tusers\tto\tmanage\tand\tcontrol\tdata structures\tor\tobjects\tto\tcreate\tand\trun\tprograms.\tEverything\tin\tPython\tis,\tin\tfact,\tfirst class.\tAll\tobjects,\tdata\ttypes,\tfunctions,\tmethods,\tand\tclasses\ttake\tequal\tposition\tin Python."
   ]
  },
  {
   "cell_type": "markdown",
   "metadata": {},
   "source": [
    "##  Advantages\tof\tUsing\tPython"
   ]
  },
  {
   "cell_type": "markdown",
   "metadata": {},
   "source": [
    "Here are\treasons\twhy\tyou\twould\tprefer\tto\tlearn\tand\tuse\tPython\tover\tother\thigh\tlevel languages:\n",
    "\n",
    "### Readability:\n",
    "\n",
    "Python\tprograms\tuse\tclear,\tsimple,\tand\tconcise\tinstructions\tthat\tare\teasy\tto\tread\teven\tby those\twho\thave\tno\tsubstantial\tprogramming\tbackground.\tPrograms\twritten\tin\tPython\tare, therefore,\teasier\tto\tmaintain,\tdebug,\tor\tenhance.\n",
    "\t\n",
    "### Higher\tproductivity:\n",
    "\n",
    "Codes\tused\tin\tPython\tare\tconsiderably\tshorter,\tsimpler,\tand\tless\tverbose\tthan\tother\thighlevel\tprogramming\tlanguages\tsuch\tas\tJava\tand\tC++.\tIn\taddition,\tit\thas\twell-designed built-in\tfeatures\tand\tstandard\tlibrary\tas\twell\tas\taccess\tto\tthird\tparty\tmodules\tand\tsource libraries.\tThese\tfeatures\tmake\tprogramming\tin\tPython\tmore\tefficient.\n",
    "\n",
    "### Less learning time:\n",
    "\n",
    "Python\tis\trelatively\teasy\tto\tlearn.\tMany\tfind\tPython\ta\tgood\tfirst\tlanguage\tfor\tlearning programming\tbecause\tit\tuses\tsimple\tsyntax\tand\tshorter\tcodes.\n",
    "\t\n",
    "### Runs\tacross\tdifferent\tplatforms:\n",
    "\n",
    "Python\tworks\ton\tWindows,\tLinux/UNIX,\tMac\tOS\tX,\tother\toperating\tsystems\tand\tsmallform\tdevices.\tIt\talso\truns\ton\tmicrocontrollers\tused\tin\tappliances,\ttoys,\tremote\tcontrols, embedded\tdevices,\tand\tother\tsimilar\tdevices\n",
    "\n",
    "### Dynamic typing :\n",
    "\n",
    "Python keeps track of the kinds of objects your program uses when it runs; it doesn't require complicated type and size declarations in your code\n",
    "\n",
    "### Built-in object types:\n",
    "\n",
    "Python provides commonly used data structures such as lists, dictionaries, and strings, as an intrinsic part of the language; as we'll see, they're both flexible and easy to use.\n",
    "\n",
    "### Built-in tools:\n",
    "\n",
    "To process all those object types, Python comes with powerful and standard operations, including concatenation (joining collections), slicing (extracting sections), sorting, mapping, and more.\n",
    "\n",
    "### Library utilities:\n",
    "\n",
    "For more specific tasks, Python also comes with a large collection of precoded library tools that support everything from regular-expression matching to networking to object persistence\n",
    "\n",
    "### Third-party utilities:\n",
    "\n",
    "Because Python is freeware, it encourages developers to contribute precoded tools that support tasks beyond Python's built-ins; you'll find free support for COM, imaging, CORBA ORBs, XML, and much more\n",
    "\n",
    "### Automatic memory management:\n",
    "\n",
    "Python automatically allocates and reclaims (\"garbage collects\") objects when no longer used, and most grow and shrink on demand; Python, not you, keeps track of low-level memory details.\n"
   ]
  },
  {
   "cell_type": "markdown",
   "metadata": {},
   "source": [
    "##  Uses of Python\n",
    "\n",
    "There are so many applications for Python but popular applications for Python are .\n",
    "\n",
    "1. Web Development\n",
    "2. GUI Development\n",
    "3. Scientific and Numeric\n",
    "4. Software Development\n",
    "5. System Administration\n",
    "\n",
    "\n",
    "### Frameworks And Modules..\n",
    "\n",
    "####  Web Development:\n",
    "\n",
    "- Django\n",
    "- Flask\n",
    "- Pyramid\n",
    "- Bottle\n",
    "- Tornado\n",
    "- web2py\n",
    "\n",
    "####  GUI Development:\n",
    "\n",
    "- tklnter\n",
    "- PyGObject\n",
    "- PyQt\n",
    "- Kivy\n",
    "- wxPython\n",
    "\n",
    "####  Scientific and Numeric:\n",
    "\n",
    "- SciPy\n",
    "- Pandas\n",
    "- IPython\n",
    "\n",
    "####  Software Development:\n",
    "\n",
    "- BuildBot\n",
    "- Trac\n",
    "- Roundup\n",
    "\n",
    "#### Software Development:\n",
    "\n",
    "\n",
    "- Ansible\n",
    "- Salt\n",
    "- OpenStack\n",
    "\n",
    "\n",
    "\n"
   ]
  },
  {
   "cell_type": "code",
   "execution_count": null,
   "metadata": {},
   "outputs": [],
   "source": []
  }
 ],
 "metadata": {
  "kernelspec": {
   "display_name": "Python 3",
   "language": "python",
   "name": "python3"
  },
  "language_info": {
   "codemirror_mode": {
    "name": "ipython",
    "version": 3
   },
   "file_extension": ".py",
   "mimetype": "text/x-python",
   "name": "python",
   "nbconvert_exporter": "python",
   "pygments_lexer": "ipython3",
   "version": "3.7.0"
  },
  "toc": {
   "base_numbering": 1,
   "nav_menu": {},
   "number_sections": true,
   "sideBar": true,
   "skip_h1_title": false,
   "title_cell": "Table of Contents",
   "title_sidebar": "Contents",
   "toc_cell": false,
   "toc_position": {},
   "toc_section_display": true,
   "toc_window_display": true
  }
 },
 "nbformat": 4,
 "nbformat_minor": 2
}
