{
 "cells": [
  {
   "cell_type": "markdown",
   "metadata": {},
   "source": [
    "#  Installation of Python"
   ]
  },
  {
   "cell_type": "markdown",
   "metadata": {},
   "source": [
    "Follow Steps To install Python \n",
    "\n",
    "1. First Go to python orignal website https://www.python.org/\n",
    "\n",
    "2. Then Go to Download Tab and download the latest version Of python \n",
    "\n",
    "3. python.exe file will be downloaded Run this File and install the software\n",
    "\n",
    "4. After install verify installation by opening command prompt and type python and enter\n",
    "\n",
    "5. if you see >>> its mean python install in your machine successfully\n"
   ]
  },
  {
   "cell_type": "markdown",
   "metadata": {},
   "source": [
    "#  Interacting\twith\tPython"
   ]
  },
  {
   "cell_type": "markdown",
   "metadata": {},
   "source": [
    "There are various Methods to interact with python \n",
    "1. Command Line Interaction\n",
    "2. IDE (Integrated Development Environment)\n",
    "\n",
    "## Command Line Interaction:\n",
    "\n",
    "The\tcommand\tline\tis\tthe\tmost\tstraightforward\tway\tto\twork\twith\tPython.\tYou\tcan\teasily visualize\thow\tPython\tworks\tas\tit\tresponds\tto\tevery\tcompleted\tcommand\tentered\ton\tthe >>>\tprompt.\tIt\tmay\tnot\tbe\tthe\tmost\tpreferred\tinteraction\twith\tPython,\tbut\tit\tis\tthe simplest\tway\tto\texplore\thow\tPython\tworks.\n",
    "\n",
    "### Start Python\n",
    "\n",
    "There\tare\tdifferent\tways\tto\taccess\tPython’s\tcommand\tline\tdepending\ton\tthe\toperating system\tinstalled\ton\tyour\tmachine:\n",
    "\t\n",
    "- If\tyou’re\tusing\tWindows,\tyou\tcan\tstart\tthe\tPython\tcommand\tline\tby\tclicking\ton its\ticon\tor\tmenu\titem\ton\tthe\tStart\tmenu.\n",
    "\t\n",
    "- You\tmay\talso\tgo\tto\tthe\tfolder\tcontaining\tthe\tshortcut\tor\tthe\tinstalled\tfiles\tand click\ton\tthe\tPython\tcommand\tline.\n",
    "\t\n",
    "- If\tyou’re\tusing\tGNU/Linux,\tUNIX,\tand\tMac\tOS\tsystems,\tyou\thave\tto\trun\tthe Terminal\tTool\tand\tenter\tthe\tPython\tcommand\tto\tstart\tyour\tsession.\n",
    "\t\n",
    "We\tuse\tcommands\tto\ttell\tthe\tcomputer\twhat\tto\tdo.\tWhen\tyou\twant\tPython\tto\tdo something\tfor\tyou,\tyou\thave\tto\tinstruct\tit\tby\tentering\tcommands\tthat\tit\tis\tfamiliar\twith. Python\twill\tthen\ttranslate\tthese\tcommands\tto\tinstructions\tthat\tyour\tcomputer\tor\tdevice can\tunderstand\tand\texecute.\n",
    "\t\n",
    " To\tsee\thow\tPython\tworks,\tyou\tcan\tuse\tthe\tprint\tcommand\tto\tprint\tthe\tuniversal\tprogram “Hello,\tWorld!”\n",
    "\t\n",
    "1.\t\t\t\t\t\t\t\t\t\t\t\t\t\tOpen\tPython’s\tcommand\tline.\n",
    "\t\n",
    "2.\t\t\t\t\t\t\t\t\t\t\t\t\t\tAt\tthe\t>>>prompt,\ttype\tthe\tfollowing:\n",
    "\t\n",
    "print(“Hello,\tWorld!”)\n",
    "\t\n",
    "3.\t\t\t\t\t\t\t\t\t\t\t\t\t\tPress\tenter\tto\ttell\tPython\tthat\tyou’re\tdone\twith\tyour\tcommand.\tVery\tquickly,\tthe command\tline\twindow\twill\tdisplay\tHello,\tWorld!\ton\tthe\tfollowing\tline\n",
    "\n",
    "### Exiting Python\n",
    "\n",
    "To\texit\tfrom\tPython,\tyou\tcan\ttype\tany\tof\tthese\tcommands:\n",
    "\t\n",
    "- quit() \n",
    "- exit() \n",
    "- Control-Z\tthen\tpress\tenter\n",
    "\n",
    "# Integrated\tDevelopment Environment :\n",
    "\n",
    "These are famouse IDE For Python\n",
    "\n",
    "- IDLE\n",
    "- PyCharm\n",
    "- Spyder\n",
    "- Jupyter Notebook\n",
    "- VS Code\n",
    "- Atom \n",
    "- Subline Text 3"
   ]
  },
  {
   "cell_type": "markdown",
   "metadata": {},
   "source": [
    "# Installation from unofficial distributions"
   ]
  },
  {
   "cell_type": "markdown",
   "metadata": {},
   "source": [
    "Installing all the necessary libraries might prove troublesome. Anaconda and Canopy comes pre packaged with all the necessary python libraries and also IPython."
   ]
  },
  {
   "cell_type": "markdown",
   "metadata": {},
   "source": [
    "## Anaconda"
   ]
  },
  {
   "cell_type": "markdown",
   "metadata": {},
   "source": [
    "Download Anaconda from https://www.anaconda.com/download/\n",
    "\n",
    "Anaconda is completely free and includes more than 300 python packages. Both python 2.7 and 3.7 options are available."
   ]
  },
  {
   "cell_type": "markdown",
   "metadata": {},
   "source": [
    "## Canopy\n",
    "Download Canopy from https://store.enthought.com/downloads/#default\n",
    "\n",
    "Canopy has a premium version which offers 300+ python packages. But the free version works just fine. Canopy as of now supports only 2.7 but it comes with its own text editor and IPython environment."
   ]
  },
  {
   "cell_type": "markdown",
   "metadata": {},
   "source": [
    "## Launching IPaython Notebook"
   ]
  },
  {
   "cell_type": "markdown",
   "metadata": {},
   "source": [
    "From the terminal\n",
    "\n",
    "    ipython notebook\n",
    "\n",
    "In Canopy and Anaconda, Open the respective terminals and execute the above."
   ]
  }
 ],
 "metadata": {
  "kernelspec": {
   "display_name": "Python 3",
   "language": "python",
   "name": "python3"
  },
  "language_info": {
   "codemirror_mode": {
    "name": "ipython",
    "version": 3
   },
   "file_extension": ".py",
   "mimetype": "text/x-python",
   "name": "python",
   "nbconvert_exporter": "python",
   "pygments_lexer": "ipython3",
   "version": "3.7.0"
  },
  "toc": {
   "base_numbering": 1,
   "nav_menu": {},
   "number_sections": true,
   "sideBar": true,
   "skip_h1_title": false,
   "title_cell": "Table of Contents",
   "title_sidebar": "Contents",
   "toc_cell": false,
   "toc_position": {},
   "toc_section_display": true,
   "toc_window_display": false
  }
 },
 "nbformat": 4,
 "nbformat_minor": 2
}
